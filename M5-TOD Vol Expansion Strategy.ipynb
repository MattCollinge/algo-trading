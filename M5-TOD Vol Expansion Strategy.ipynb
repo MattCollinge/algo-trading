{
 "cells": [
  {
   "cell_type": "code",
   "execution_count": 2,
   "id": "e57c8b1d",
   "metadata": {},
   "outputs": [],
   "source": [
    "import backtrader as bt\n",
    "import backtrader.indicators as btind\n",
    "import backtrader.feeds as btfeeds"
   ]
  },
  {
   "cell_type": "code",
   "execution_count": 1,
   "id": "657975a5",
   "metadata": {},
   "outputs": [],
   "source": [
    "# https://github.com/happydasch/btoandav20\n",
    "import btoandav20 \n"
   ]
  },
  {
   "cell_type": "code",
   "execution_count": 3,
   "id": "51589231",
   "metadata": {},
   "outputs": [
    {
     "ename": "FileNotFoundError",
     "evalue": "[Errno 2] No such file or directory: 'config.json'",
     "output_type": "error",
     "traceback": [
      "\u001b[0;31m---------------------------------------------------------------------------\u001b[0m",
      "\u001b[0;31mFileNotFoundError\u001b[0m                         Traceback (most recent call last)",
      "Input \u001b[0;32mIn [3]\u001b[0m, in \u001b[0;36m<cell line: 35>\u001b[0;34m()\u001b[0m\n\u001b[1;32m     29\u001b[0m             \u001b[38;5;28;01mif\u001b[39;00m v:\n\u001b[1;32m     30\u001b[0m                 \u001b[38;5;28mself\u001b[39m\u001b[38;5;241m.\u001b[39morder \u001b[38;5;241m=\u001b[39m \u001b[38;5;28mself\u001b[39m\u001b[38;5;241m.\u001b[39mbuy(\n\u001b[1;32m     31\u001b[0m                     size\u001b[38;5;241m=\u001b[39m\u001b[38;5;241m1\u001b[39m,\n\u001b[1;32m     32\u001b[0m                     buytrigger\u001b[38;5;241m=\u001b[39mk\n\u001b[1;32m     33\u001b[0m                     )\n\u001b[0;32m---> 35\u001b[0m \u001b[38;5;28;01mwith\u001b[39;00m \u001b[38;5;28;43mopen\u001b[39;49m\u001b[43m(\u001b[49m\u001b[38;5;124;43m\"\u001b[39;49m\u001b[38;5;124;43mconfig.json\u001b[39;49m\u001b[38;5;124;43m\"\u001b[39;49m\u001b[43m,\u001b[49m\u001b[43m \u001b[49m\u001b[38;5;124;43m\"\u001b[39;49m\u001b[38;5;124;43mr\u001b[39;49m\u001b[38;5;124;43m\"\u001b[39;49m\u001b[43m)\u001b[49m \u001b[38;5;28;01mas\u001b[39;00m file:\n\u001b[1;32m     36\u001b[0m     config \u001b[38;5;241m=\u001b[39m json\u001b[38;5;241m.\u001b[39mload(file)\n\u001b[1;32m     38\u001b[0m storekwargs \u001b[38;5;241m=\u001b[39m \u001b[38;5;28mdict\u001b[39m(\n\u001b[1;32m     39\u001b[0m     token\u001b[38;5;241m=\u001b[39mconfig[\u001b[38;5;124m\"\u001b[39m\u001b[38;5;124moanda\u001b[39m\u001b[38;5;124m\"\u001b[39m][\u001b[38;5;124m\"\u001b[39m\u001b[38;5;124mtoken\u001b[39m\u001b[38;5;124m\"\u001b[39m],\n\u001b[1;32m     40\u001b[0m     account\u001b[38;5;241m=\u001b[39mconfig[\u001b[38;5;124m\"\u001b[39m\u001b[38;5;124moanda\u001b[39m\u001b[38;5;124m\"\u001b[39m][\u001b[38;5;124m\"\u001b[39m\u001b[38;5;124maccount\u001b[39m\u001b[38;5;124m\"\u001b[39m],\n\u001b[0;32m   (...)\u001b[0m\n\u001b[1;32m     43\u001b[0m     stream_timeout\u001b[38;5;241m=\u001b[39m\u001b[38;5;241m10\u001b[39m,\n\u001b[1;32m     44\u001b[0m )\n",
      "\u001b[0;31mFileNotFoundError\u001b[0m: [Errno 2] No such file or directory: 'config.json'"
     ]
    }
   ],
   "source": [
    "import json\n",
    "\n",
    "''' Order info '''\n",
    "\n",
    "\n",
    "class St(bt.Strategy):\n",
    "\n",
    "    def __init__(self):\n",
    "        self.order = None\n",
    "        self.mybuysignals = {\n",
    "            \"buysignal1\": False,\n",
    "            \"buysignal2\": False,\n",
    "            \"buysignal3\": False,\n",
    "            \"buysignal4\": True,\n",
    "            \"buysignal5\": False,\n",
    "\n",
    "        }\n",
    "\n",
    "    def notify_store(self, msg, *args, **kwargs):\n",
    "        if \"clientExtensions\" in msg:\n",
    "            o_info = json.loads(msg[\"clientExtensions\"][\"comment\"])\n",
    "            buytrigger = o_info[\"buytrigger\"]\n",
    "\n",
    "    def next(self):\n",
    "        if self.order:\n",
    "            return\n",
    "\n",
    "        for k, v in self.mybuysignals.items():\n",
    "            if v:\n",
    "                self.order = self.buy(\n",
    "                    size=1,\n",
    "                    buytrigger=k\n",
    "                    )\n",
    "\n",
    "with open(\"config.json\", \"r\") as file:\n",
    "    config = json.load(file)\n",
    "\n",
    "storekwargs = dict(\n",
    "    token=config[\"oanda\"][\"token\"],\n",
    "    account=config[\"oanda\"][\"account\"],\n",
    "    practice=config[\"oanda\"][\"practice\"],\n",
    "    notif_transactions=True,\n",
    "    stream_timeout=10,\n",
    ")\n",
    "store = bto.stores.OandaV20Store(**storekwargs)\n",
    "datakwargs = dict(\n",
    "    timeframe=bt.TimeFrame.Minutes,\n",
    "    compression=1,\n",
    "    tz='Europe/Berlin',\n",
    "    backfill=False,\n",
    "    backfill_start=False,\n",
    ")\n",
    "data = store.getdata(dataname=\"EUR_USD\", **datakwargs)\n",
    "data.resample(\n",
    "    timeframe=bt.TimeFrame.Minutes,\n",
    "    compression=1)  # rightedge=True, boundoff=1)\n",
    "cerebro = bt.Cerebro()\n",
    "cerebro.adddata(data)\n",
    "cerebro.setbroker(store.getbroker())\n",
    "cerebro.addstrategy(St)\n",
    "cerebro.run()"
   ]
  },
  {
   "cell_type": "code",
   "execution_count": null,
   "id": "e2ca9af5",
   "metadata": {},
   "outputs": [],
   "source": []
  }
 ],
 "metadata": {
  "kernelspec": {
   "display_name": "Python 3 (ipykernel)",
   "language": "python",
   "name": "python3"
  },
  "language_info": {
   "codemirror_mode": {
    "name": "ipython",
    "version": 3
   },
   "file_extension": ".py",
   "mimetype": "text/x-python",
   "name": "python",
   "nbconvert_exporter": "python",
   "pygments_lexer": "ipython3",
   "version": "3.9.12"
  }
 },
 "nbformat": 4,
 "nbformat_minor": 5
}
