{
 "cells": [
  {
   "cell_type": "code",
   "execution_count": 1,
   "id": "50c5cf18",
   "metadata": {},
   "outputs": [],
   "source": [
    "import backtrader as bt\n",
    "import backtrader.indicators as btind\n",
    "import backtrader.feeds as btfeeds"
   ]
  },
  {
   "cell_type": "code",
   "execution_count": 2,
   "id": "d19280f2",
   "metadata": {},
   "outputs": [],
   "source": [
    "# https://github.com/happydasch/btoandav20\n",
    "import btoandav20 as bto\n"
   ]
  },
  {
   "cell_type": "code",
   "execution_count": 15,
   "id": "4ce72be8",
   "metadata": {},
   "outputs": [
    {
     "name": "stdout",
     "output_type": "stream",
     "text": [
      "*****, STORE NOTIF:, {'id': '32', 'time': '1684087059.471787874', 'userID': 25763012, 'accountID': '101-004-25763012-001', 'batchID': '32', 'requestID': '61106768619922855', 'type': 'MARKET_ORDER', 'instrument': 'EUR_USD', 'units': '1.0', 'timeInForce': 'FOK', 'positionFill': 'DEFAULT', 'reason': 'CLIENT_ORDER', 'clientExtensions': {'id': '1684086046.314629-11', 'comment': '{\"buytrigger\": \"buysignal4\"}'}}\n",
      "*****, STORE NOTIF:, {'id': '32', 'time': '1684087059.471787874', 'userID': 25763012, 'accountID': '101-004-25763012-001', 'batchID': '32', 'requestID': '61106768619922855', 'type': 'MARKET_ORDER', 'instrument': 'EUR_USD', 'units': '1.0', 'timeInForce': 'FOK', 'positionFill': 'DEFAULT', 'reason': 'CLIENT_ORDER', 'clientExtensions': {'id': '1684086046.314629-11', 'comment': '{\"buytrigger\": \"buysignal4\"}'}}\n",
      "*****, STORE NOTIF:, {'id': '32', 'time': '1684087059.471787874', 'userID': 25763012, 'accountID': '101-004-25763012-001', 'batchID': '32', 'requestID': '61106768619922855', 'type': 'MARKET_ORDER', 'instrument': 'EUR_USD', 'units': '1.0', 'timeInForce': 'FOK', 'positionFill': 'DEFAULT', 'reason': 'CLIENT_ORDER', 'clientExtensions': {'id': '1684086046.314629-11', 'comment': '{\"buytrigger\": \"buysignal4\"}'}}\n",
      "*****, STORE NOTIF:, {'id': '32', 'time': '1684087059.471787874', 'userID': 25763012, 'accountID': '101-004-25763012-001', 'batchID': '32', 'requestID': '61106768619922855', 'type': 'MARKET_ORDER', 'instrument': 'EUR_USD', 'units': '1.0', 'timeInForce': 'FOK', 'positionFill': 'DEFAULT', 'reason': 'CLIENT_ORDER', 'clientExtensions': {'id': '1684086046.314629-11', 'comment': '{\"buytrigger\": \"buysignal4\"}'}}\n",
      "*****, STORE NOTIF:, {'id': '32', 'time': '1684087059.471787874', 'userID': 25763012, 'accountID': '101-004-25763012-001', 'batchID': '32', 'requestID': '61106768619922855', 'type': 'MARKET_ORDER', 'instrument': 'EUR_USD', 'units': '1.0', 'timeInForce': 'FOK', 'positionFill': 'DEFAULT', 'reason': 'CLIENT_ORDER', 'clientExtensions': {'id': '1684086046.314629-11', 'comment': '{\"buytrigger\": \"buysignal4\"}'}}\n",
      "*****, STORE NOTIF:, {'id': '32', 'time': '1684087059.471787874', 'userID': 25763012, 'accountID': '101-004-25763012-001', 'batchID': '32', 'requestID': '61106768619922855', 'type': 'MARKET_ORDER', 'instrument': 'EUR_USD', 'units': '1.0', 'timeInForce': 'FOK', 'positionFill': 'DEFAULT', 'reason': 'CLIENT_ORDER', 'clientExtensions': {'id': '1684086046.314629-11', 'comment': '{\"buytrigger\": \"buysignal4\"}'}}\n",
      "*****, STORE NOTIF:, {'id': '32', 'time': '1684087059.471787874', 'userID': 25763012, 'accountID': '101-004-25763012-001', 'batchID': '32', 'requestID': '61106768619922855', 'type': 'MARKET_ORDER', 'instrument': 'EUR_USD', 'units': '1.0', 'timeInForce': 'FOK', 'positionFill': 'DEFAULT', 'reason': 'CLIENT_ORDER', 'clientExtensions': {'id': '1684086046.314629-11', 'comment': '{\"buytrigger\": \"buysignal4\"}'}}\n",
      "*****, STORE NOTIF:, {'id': '32', 'time': '1684087059.471787874', 'userID': 25763012, 'accountID': '101-004-25763012-001', 'batchID': '32', 'requestID': '61106768619922855', 'type': 'MARKET_ORDER', 'instrument': 'EUR_USD', 'units': '1.0', 'timeInForce': 'FOK', 'positionFill': 'DEFAULT', 'reason': 'CLIENT_ORDER', 'clientExtensions': {'id': '1684086046.314629-11', 'comment': '{\"buytrigger\": \"buysignal4\"}'}}\n",
      "*****, STORE NOTIF:, {'id': '32', 'time': '1684087059.471787874', 'userID': 25763012, 'accountID': '101-004-25763012-001', 'batchID': '32', 'requestID': '61106768619922855', 'type': 'MARKET_ORDER', 'instrument': 'EUR_USD', 'units': '1.0', 'timeInForce': 'FOK', 'positionFill': 'DEFAULT', 'reason': 'CLIENT_ORDER', 'clientExtensions': {'id': '1684086046.314629-11', 'comment': '{\"buytrigger\": \"buysignal4\"}'}}\n",
      "*****, STORE NOTIF:, {'id': '32', 'time': '1684087059.471787874', 'userID': 25763012, 'accountID': '101-004-25763012-001', 'batchID': '32', 'requestID': '61106768619922855', 'type': 'MARKET_ORDER', 'instrument': 'EUR_USD', 'units': '1.0', 'timeInForce': 'FOK', 'positionFill': 'DEFAULT', 'reason': 'CLIENT_ORDER', 'clientExtensions': {'id': '1684086046.314629-11', 'comment': '{\"buytrigger\": \"buysignal4\"}'}}\n",
      "*****, STORE NOTIF:, {'id': '32', 'time': '1684087059.471787874', 'userID': 25763012, 'accountID': '101-004-25763012-001', 'batchID': '32', 'requestID': '61106768619922855', 'type': 'MARKET_ORDER', 'instrument': 'EUR_USD', 'units': '1.0', 'timeInForce': 'FOK', 'positionFill': 'DEFAULT', 'reason': 'CLIENT_ORDER', 'clientExtensions': {'id': '1684086046.314629-11', 'comment': '{\"buytrigger\": \"buysignal4\"}'}}\n"
     ]
    },
    {
     "ename": "KeyboardInterrupt",
     "evalue": "",
     "output_type": "error",
     "traceback": [
      "\u001b[0;31m---------------------------------------------------------------------------\u001b[0m",
      "\u001b[0;31mKeyboardInterrupt\u001b[0m                         Traceback (most recent call last)",
      "Input \u001b[0;32mIn [15]\u001b[0m, in \u001b[0;36m<cell line: 66>\u001b[0;34m()\u001b[0m\n\u001b[1;32m     64\u001b[0m cerebro\u001b[38;5;241m.\u001b[39msetbroker(store\u001b[38;5;241m.\u001b[39mgetbroker())\n\u001b[1;32m     65\u001b[0m cerebro\u001b[38;5;241m.\u001b[39maddstrategy(St)\n\u001b[0;32m---> 66\u001b[0m \u001b[43mcerebro\u001b[49m\u001b[38;5;241;43m.\u001b[39;49m\u001b[43mrun\u001b[49m\u001b[43m(\u001b[49m\u001b[43m)\u001b[49m\n",
      "File \u001b[0;32m~/anaconda3/lib/python3.9/site-packages/backtrader/cerebro.py:1132\u001b[0m, in \u001b[0;36mCerebro.run\u001b[0;34m(self, **kwargs)\u001b[0m\n\u001b[1;32m   1128\u001b[0m \u001b[38;5;28;01mif\u001b[39;00m \u001b[38;5;129;01mnot\u001b[39;00m \u001b[38;5;28mself\u001b[39m\u001b[38;5;241m.\u001b[39m_dooptimize \u001b[38;5;129;01mor\u001b[39;00m \u001b[38;5;28mself\u001b[39m\u001b[38;5;241m.\u001b[39mp\u001b[38;5;241m.\u001b[39mmaxcpus \u001b[38;5;241m==\u001b[39m \u001b[38;5;241m1\u001b[39m:\n\u001b[1;32m   1129\u001b[0m     \u001b[38;5;66;03m# If no optimmization is wished ... or 1 core is to be used\u001b[39;00m\n\u001b[1;32m   1130\u001b[0m     \u001b[38;5;66;03m# let's skip process \"spawning\"\u001b[39;00m\n\u001b[1;32m   1131\u001b[0m     \u001b[38;5;28;01mfor\u001b[39;00m iterstrat \u001b[38;5;129;01min\u001b[39;00m iterstrats:\n\u001b[0;32m-> 1132\u001b[0m         runstrat \u001b[38;5;241m=\u001b[39m \u001b[38;5;28;43mself\u001b[39;49m\u001b[38;5;241;43m.\u001b[39;49m\u001b[43mrunstrategies\u001b[49m\u001b[43m(\u001b[49m\u001b[43miterstrat\u001b[49m\u001b[43m)\u001b[49m\n\u001b[1;32m   1133\u001b[0m         \u001b[38;5;28mself\u001b[39m\u001b[38;5;241m.\u001b[39mrunstrats\u001b[38;5;241m.\u001b[39mappend(runstrat)\n\u001b[1;32m   1134\u001b[0m         \u001b[38;5;28;01mif\u001b[39;00m \u001b[38;5;28mself\u001b[39m\u001b[38;5;241m.\u001b[39m_dooptimize:\n",
      "File \u001b[0;32m~/anaconda3/lib/python3.9/site-packages/backtrader/cerebro.py:1303\u001b[0m, in \u001b[0;36mCerebro.runstrategies\u001b[0;34m(self, iterstrat, predata)\u001b[0m\n\u001b[1;32m   1301\u001b[0m         \u001b[38;5;28mself\u001b[39m\u001b[38;5;241m.\u001b[39m_runnext_old(runstrats)\n\u001b[1;32m   1302\u001b[0m     \u001b[38;5;28;01melse\u001b[39;00m:\n\u001b[0;32m-> 1303\u001b[0m         \u001b[38;5;28;43mself\u001b[39;49m\u001b[38;5;241;43m.\u001b[39;49m\u001b[43m_runnext\u001b[49m\u001b[43m(\u001b[49m\u001b[43mrunstrats\u001b[49m\u001b[43m)\u001b[49m\n\u001b[1;32m   1305\u001b[0m \u001b[38;5;28;01mfor\u001b[39;00m strat \u001b[38;5;129;01min\u001b[39;00m runstrats:\n\u001b[1;32m   1306\u001b[0m     strat\u001b[38;5;241m.\u001b[39m_stop()\n",
      "File \u001b[0;32m~/anaconda3/lib/python3.9/site-packages/backtrader/cerebro.py:1547\u001b[0m, in \u001b[0;36mCerebro._runnext\u001b[0;34m(self, runstrats)\u001b[0m\n\u001b[1;32m   1545\u001b[0m     qlapse \u001b[38;5;241m=\u001b[39m datetime\u001b[38;5;241m.\u001b[39mdatetime\u001b[38;5;241m.\u001b[39mutcnow() \u001b[38;5;241m-\u001b[39m qstart\n\u001b[1;32m   1546\u001b[0m     d\u001b[38;5;241m.\u001b[39mdo_qcheck(newqcheck, qlapse\u001b[38;5;241m.\u001b[39mtotal_seconds())\n\u001b[0;32m-> 1547\u001b[0m     drets\u001b[38;5;241m.\u001b[39mappend(\u001b[43md\u001b[49m\u001b[38;5;241;43m.\u001b[39;49m\u001b[43mnext\u001b[49m\u001b[43m(\u001b[49m\u001b[43mticks\u001b[49m\u001b[38;5;241;43m=\u001b[39;49m\u001b[38;5;28;43;01mFalse\u001b[39;49;00m\u001b[43m)\u001b[49m)\n\u001b[1;32m   1549\u001b[0m d0ret \u001b[38;5;241m=\u001b[39m \u001b[38;5;28many\u001b[39m((dret \u001b[38;5;28;01mfor\u001b[39;00m dret \u001b[38;5;129;01min\u001b[39;00m drets))\n\u001b[1;32m   1550\u001b[0m \u001b[38;5;28;01mif\u001b[39;00m \u001b[38;5;129;01mnot\u001b[39;00m d0ret \u001b[38;5;129;01mand\u001b[39;00m \u001b[38;5;28many\u001b[39m((dret \u001b[38;5;129;01mis\u001b[39;00m \u001b[38;5;28;01mNone\u001b[39;00m \u001b[38;5;28;01mfor\u001b[39;00m dret \u001b[38;5;129;01min\u001b[39;00m drets)):\n",
      "File \u001b[0;32m~/anaconda3/lib/python3.9/site-packages/backtrader/feed.py:407\u001b[0m, in \u001b[0;36mAbstractDataBase.next\u001b[0;34m(self, datamaster, ticks)\u001b[0m\n\u001b[1;32m    404\u001b[0m     \u001b[38;5;28mself\u001b[39m\u001b[38;5;241m.\u001b[39m_tick_nullify()\n\u001b[1;32m    406\u001b[0m \u001b[38;5;66;03m# not preloaded - request next bar\u001b[39;00m\n\u001b[0;32m--> 407\u001b[0m ret \u001b[38;5;241m=\u001b[39m \u001b[38;5;28;43mself\u001b[39;49m\u001b[38;5;241;43m.\u001b[39;49m\u001b[43mload\u001b[49m\u001b[43m(\u001b[49m\u001b[43m)\u001b[49m\n\u001b[1;32m    408\u001b[0m \u001b[38;5;28;01mif\u001b[39;00m \u001b[38;5;129;01mnot\u001b[39;00m ret:\n\u001b[1;32m    409\u001b[0m     \u001b[38;5;66;03m# if load cannot produce bars - forward the result\u001b[39;00m\n\u001b[1;32m    410\u001b[0m     \u001b[38;5;28;01mreturn\u001b[39;00m ret\n",
      "File \u001b[0;32m~/anaconda3/lib/python3.9/site-packages/backtrader/feed.py:480\u001b[0m, in \u001b[0;36mAbstractDataBase.load\u001b[0;34m(self)\u001b[0m\n\u001b[1;32m    477\u001b[0m     \u001b[38;5;28;01mreturn\u001b[39;00m \u001b[38;5;28;01mTrue\u001b[39;00m\n\u001b[1;32m    479\u001b[0m \u001b[38;5;28;01mif\u001b[39;00m \u001b[38;5;129;01mnot\u001b[39;00m \u001b[38;5;28mself\u001b[39m\u001b[38;5;241m.\u001b[39m_fromstack(stash\u001b[38;5;241m=\u001b[39m\u001b[38;5;28;01mTrue\u001b[39;00m):\n\u001b[0;32m--> 480\u001b[0m     _loadret \u001b[38;5;241m=\u001b[39m \u001b[38;5;28;43mself\u001b[39;49m\u001b[38;5;241;43m.\u001b[39;49m\u001b[43m_load\u001b[49m\u001b[43m(\u001b[49m\u001b[43m)\u001b[49m\n\u001b[1;32m    481\u001b[0m     \u001b[38;5;28;01mif\u001b[39;00m \u001b[38;5;129;01mnot\u001b[39;00m _loadret:  \u001b[38;5;66;03m# no bar use force to make sure in exactbars\u001b[39;00m\n\u001b[1;32m    482\u001b[0m         \u001b[38;5;66;03m# the pointer is undone this covers especially (but not\u001b[39;00m\n\u001b[1;32m    483\u001b[0m         \u001b[38;5;66;03m# uniquely) the case in which the last bar has been seen\u001b[39;00m\n\u001b[1;32m    484\u001b[0m         \u001b[38;5;66;03m# and a backwards would ruin pointer accounting in the\u001b[39;00m\n\u001b[1;32m    485\u001b[0m         \u001b[38;5;66;03m# \"stop\" method of the strategy\u001b[39;00m\n\u001b[1;32m    486\u001b[0m         \u001b[38;5;28mself\u001b[39m\u001b[38;5;241m.\u001b[39mbackwards(force\u001b[38;5;241m=\u001b[39m\u001b[38;5;28;01mTrue\u001b[39;00m)  \u001b[38;5;66;03m# undo data pointer\u001b[39;00m\n",
      "File \u001b[0;32m~/anaconda3/lib/python3.9/site-packages/btoandav20/feeds/oandav20feed.py:398\u001b[0m, in \u001b[0;36mOandaV20Data._load\u001b[0;34m(self)\u001b[0m\n\u001b[1;32m    395\u001b[0m \u001b[38;5;28;01mif\u001b[39;00m \u001b[38;5;28mself\u001b[39m\u001b[38;5;241m.\u001b[39m_state \u001b[38;5;241m==\u001b[39m \u001b[38;5;28mself\u001b[39m\u001b[38;5;241m.\u001b[39m_ST_LIVE:\n\u001b[1;32m    396\u001b[0m     \u001b[38;5;28;01mtry\u001b[39;00m:\n\u001b[1;32m    397\u001b[0m         msg \u001b[38;5;241m=\u001b[39m (\u001b[38;5;28mself\u001b[39m\u001b[38;5;241m.\u001b[39m_storedmsg\u001b[38;5;241m.\u001b[39mpop(\u001b[38;5;28;01mNone\u001b[39;00m, \u001b[38;5;28;01mNone\u001b[39;00m) \u001b[38;5;129;01mor\u001b[39;00m\n\u001b[0;32m--> 398\u001b[0m                \u001b[38;5;28;43mself\u001b[39;49m\u001b[38;5;241;43m.\u001b[39;49m\u001b[43mqlive\u001b[49m\u001b[38;5;241;43m.\u001b[39;49m\u001b[43mget\u001b[49m\u001b[43m(\u001b[49m\u001b[43mtimeout\u001b[49m\u001b[38;5;241;43m=\u001b[39;49m\u001b[38;5;28;43mself\u001b[39;49m\u001b[38;5;241;43m.\u001b[39;49m\u001b[43m_qcheck\u001b[49m\u001b[43m)\u001b[49m)\n\u001b[1;32m    399\u001b[0m     \u001b[38;5;28;01mexcept\u001b[39;00m queue\u001b[38;5;241m.\u001b[39mEmpty:\n\u001b[1;32m    400\u001b[0m         \u001b[38;5;28;01mreturn\u001b[39;00m \u001b[38;5;28;01mNone\u001b[39;00m\n",
      "File \u001b[0;32m~/anaconda3/lib/python3.9/queue.py:180\u001b[0m, in \u001b[0;36mQueue.get\u001b[0;34m(self, block, timeout)\u001b[0m\n\u001b[1;32m    178\u001b[0m         \u001b[38;5;28;01mif\u001b[39;00m remaining \u001b[38;5;241m<\u001b[39m\u001b[38;5;241m=\u001b[39m \u001b[38;5;241m0.0\u001b[39m:\n\u001b[1;32m    179\u001b[0m             \u001b[38;5;28;01mraise\u001b[39;00m Empty\n\u001b[0;32m--> 180\u001b[0m         \u001b[38;5;28;43mself\u001b[39;49m\u001b[38;5;241;43m.\u001b[39;49m\u001b[43mnot_empty\u001b[49m\u001b[38;5;241;43m.\u001b[39;49m\u001b[43mwait\u001b[49m\u001b[43m(\u001b[49m\u001b[43mremaining\u001b[49m\u001b[43m)\u001b[49m\n\u001b[1;32m    181\u001b[0m item \u001b[38;5;241m=\u001b[39m \u001b[38;5;28mself\u001b[39m\u001b[38;5;241m.\u001b[39m_get()\n\u001b[1;32m    182\u001b[0m \u001b[38;5;28mself\u001b[39m\u001b[38;5;241m.\u001b[39mnot_full\u001b[38;5;241m.\u001b[39mnotify()\n",
      "File \u001b[0;32m~/anaconda3/lib/python3.9/threading.py:316\u001b[0m, in \u001b[0;36mCondition.wait\u001b[0;34m(self, timeout)\u001b[0m\n\u001b[1;32m    314\u001b[0m \u001b[38;5;28;01melse\u001b[39;00m:\n\u001b[1;32m    315\u001b[0m     \u001b[38;5;28;01mif\u001b[39;00m timeout \u001b[38;5;241m>\u001b[39m \u001b[38;5;241m0\u001b[39m:\n\u001b[0;32m--> 316\u001b[0m         gotit \u001b[38;5;241m=\u001b[39m \u001b[43mwaiter\u001b[49m\u001b[38;5;241;43m.\u001b[39;49m\u001b[43macquire\u001b[49m\u001b[43m(\u001b[49m\u001b[38;5;28;43;01mTrue\u001b[39;49;00m\u001b[43m,\u001b[49m\u001b[43m \u001b[49m\u001b[43mtimeout\u001b[49m\u001b[43m)\u001b[49m\n\u001b[1;32m    317\u001b[0m     \u001b[38;5;28;01melse\u001b[39;00m:\n\u001b[1;32m    318\u001b[0m         gotit \u001b[38;5;241m=\u001b[39m waiter\u001b[38;5;241m.\u001b[39macquire(\u001b[38;5;28;01mFalse\u001b[39;00m)\n",
      "\u001b[0;31mKeyboardInterrupt\u001b[0m: "
     ]
    }
   ],
   "source": [
    "import json\n",
    "\n",
    "''' Order info '''\n",
    "\n",
    "\n",
    "class St(bt.Strategy):\n",
    "\n",
    "    def __init__(self):\n",
    "        self.order = None\n",
    "        self.mybuysignals = {\n",
    "            \"buysignal1\": False,\n",
    "            \"buysignal2\": False,\n",
    "            \"buysignal3\": False,\n",
    "            \"buysignal4\": True,\n",
    "            \"buysignal5\": False,\n",
    "\n",
    "        }\n",
    "\n",
    "    def notify_store(self, msg, *args, **kwargs):\n",
    "        if \"clientExtensions\" in msg:\n",
    "#             print(msg)\n",
    "#             j_msg = json.loads(json.dumps(msg))\n",
    "#             print(j_msg)\n",
    "             txt = [\"*\" * 5, \"STORE NOTIF:\", msg]\n",
    "             print(\", \".join(txt))\n",
    "#             o_info = msg[\"clientExtensions\"]\n",
    "#             buytrigger = o_info[\"comment\"][\"buytrigger\"]\n",
    "\n",
    "    def next(self):\n",
    "        if self.order:\n",
    "            return\n",
    "\n",
    "        for k, v in self.mybuysignals.items():\n",
    "            if v:\n",
    "                self.order = self.buy(\n",
    "                    size=1,\n",
    "                    buytrigger=k\n",
    "                    )\n",
    "\n",
    "with open(\"./secret/config-practice.json\", \"r\") as file:\n",
    "    config = json.load(file)\n",
    "\n",
    "storekwargs = dict(\n",
    "    token=config[\"oanda\"][\"token\"],\n",
    "    account=config[\"oanda\"][\"account\"],\n",
    "    practice=config[\"oanda\"][\"practice\"],\n",
    "    notif_transactions=True,\n",
    "    stream_timeout=10,\n",
    ")\n",
    "store = bto.stores.OandaV20Store(**storekwargs)\n",
    "datakwargs = dict(\n",
    "    timeframe=bt.TimeFrame.Minutes,\n",
    "    compression=1,\n",
    "    tz='Europe/Berlin',\n",
    "    backfill=False,\n",
    "    backfill_start=False,\n",
    ")\n",
    "data = store.getdata(dataname=\"EUR_USD\", **datakwargs)\n",
    "data.resample(\n",
    "    timeframe=bt.TimeFrame.Minutes,\n",
    "    compression=1)  # rightedge=True, boundoff=1)\n",
    "cerebro = bt.Cerebro()\n",
    "cerebro.adddata(data)\n",
    "cerebro.setbroker(store.getbroker())\n",
    "cerebro.addstrategy(St)\n",
    "cerebro.run()"
   ]
  },
  {
   "cell_type": "code",
   "execution_count": null,
   "id": "410a84cd",
   "metadata": {},
   "outputs": [],
   "source": []
  }
 ],
 "metadata": {
  "kernelspec": {
   "display_name": "Python 3 (ipykernel)",
   "language": "python",
   "name": "python3"
  },
  "language_info": {
   "codemirror_mode": {
    "name": "ipython",
    "version": 3
   },
   "file_extension": ".py",
   "mimetype": "text/x-python",
   "name": "python",
   "nbconvert_exporter": "python",
   "pygments_lexer": "ipython3",
   "version": "3.9.12"
  }
 },
 "nbformat": 4,
 "nbformat_minor": 5
}
